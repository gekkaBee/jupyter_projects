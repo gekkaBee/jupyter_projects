{
 "cells": [
  {
   "cell_type": "code",
   "execution_count": null,
   "id": "090348ea",
   "metadata": {},
   "outputs": [],
   "source": [
    "# Implementation of Map Function\n",
    "\n",
    "def square(n):\n",
    "    return n*n\n",
    "\n",
    "print(square(2))"
   ]
  },
  {
   "cell_type": "code",
   "execution_count": null,
   "id": "9237187d",
   "metadata": {},
   "outputs": [],
   "source": [
    "a = map(square, [2,3,4])\n",
    "print(list(a))\n"
   ]
  },
  {
   "cell_type": "code",
   "execution_count": null,
   "id": "df3d36d6",
   "metadata": {},
   "outputs": [],
   "source": [
    "first_list = [1,2,3]\n",
    "second_list = [4,5,6]\n",
    "third_list = [7,8,9]\n",
    "\n",
    "c = map(lambda x, y, z: x+y+z, first_list, second_list, third_list)\n",
    "print(list(c))"
   ]
  },
  {
   "cell_type": "code",
   "execution_count": null,
   "id": "7aafd77f",
   "metadata": {},
   "outputs": [],
   "source": [
    "listing = ['abc', 'pqr', 'rst']\n",
    "\n",
    "# d = map(list,listing)\n",
    "print(list(listing))"
   ]
  },
  {
   "cell_type": "code",
   "execution_count": 7,
   "id": "481a188d",
   "metadata": {
    "collapsed": true,
    "scrolled": true
   },
   "outputs": [
    {
     "name": "stdout",
     "output_type": "stream",
     "text": [
      "5\n",
      "15\n",
      "25\n",
      "35\n",
      "45\n",
      "55\n",
      "65\n",
      "75\n",
      "85\n",
      "95\n",
      "105\n"
     ]
    }
   ],
   "source": [
    "# Implementation of Itertools\n",
    "# Count gives you infinite loop until a breaking condition is reached which need to to defined \n",
    "\n",
    "import itertools\n",
    "\n",
    "for i in itertools.count(5,10):\n",
    "    print(i)\n",
    "    if i > 100:\n",
    "        break"
   ]
  },
  {
   "cell_type": "code",
   "execution_count": null,
   "id": "84fd338b",
   "metadata": {},
   "outputs": [],
   "source": [
    "# cycle and next \n",
    "\n",
    "import itertools\n",
    "l = [1,2,3,4,5,6]\n",
    "\n",
    "iterator = itertools.cycle(l)\n",
    "\n",
    "for i in range(6):\n",
    "    print(next(iterator))"
   ]
  },
  {
   "cell_type": "code",
   "execution_count": 10,
   "id": "569454e6",
   "metadata": {},
   "outputs": [
    {
     "name": "stdout",
     "output_type": "stream",
     "text": [
      "[25, 25, 25, 25, 25]\n"
     ]
    }
   ],
   "source": [
    "import itertools\n",
    "\n",
    "print(list(itertools.repeat(25,5)))"
   ]
  },
  {
   "cell_type": "code",
   "execution_count": 14,
   "id": "7cd3d9f3",
   "metadata": {},
   "outputs": [
    {
     "name": "stdout",
     "output_type": "stream",
     "text": [
      "[(1, 1, 1), (1, 1, 2), (1, 2, 1), (1, 2, 2), (2, 1, 1), (2, 1, 2), (2, 2, 1), (2, 2, 2)]\n"
     ]
    }
   ],
   "source": [
    "# Caretesian Product\n",
    "from itertools import product\n",
    "\n",
    "print(list(product([1,2],repeat=3)))"
   ]
  },
  {
   "cell_type": "code",
   "execution_count": 18,
   "id": "ef38a707",
   "metadata": {},
   "outputs": [
    {
     "name": "stdout",
     "output_type": "stream",
     "text": [
      "[(1, 2, 3), (1, 3, 2), (2, 1, 3), (2, 3, 1), (3, 1, 2), (3, 2, 1)]\n"
     ]
    }
   ],
   "source": [
    "# Get the permutaions of a list item\n",
    "\n",
    "from itertools import permutations\n",
    "\n",
    "print(list(permutations([1,2,3], 3)))"
   ]
  }
 ],
 "metadata": {
  "kernelspec": {
   "display_name": "Python 3 (ipykernel)",
   "language": "python",
   "name": "python3"
  },
  "language_info": {
   "codemirror_mode": {
    "name": "ipython",
    "version": 3
   },
   "file_extension": ".py",
   "mimetype": "text/x-python",
   "name": "python",
   "nbconvert_exporter": "python",
   "pygments_lexer": "ipython3",
   "version": "3.10.4"
  }
 },
 "nbformat": 4,
 "nbformat_minor": 5
}
