{
 "cells": [
  {
   "cell_type": "code",
   "execution_count": 2,
   "id": "00837977",
   "metadata": {},
   "outputs": [
    {
     "data": {
      "application/javascript": [
       "\n",
       "console.log(\"Hello World\")\n"
      ],
      "text/plain": [
       "<IPython.core.display.Javascript object>"
      ]
     },
     "metadata": {},
     "output_type": "display_data"
    }
   ],
   "source": [
    "%%javascript\n",
    "\n",
    "console.log(\"Hello World\")"
   ]
  },
  {
   "cell_type": "code",
   "execution_count": 9,
   "id": "a295f142",
   "metadata": {},
   "outputs": [
    {
     "data": {
      "application/javascript": [
       "var promise = new Promise(function(resolving, rejecting){\n",
       "  //do something asynchronous here\n",
       "  const x = \"geeksforgeeks\";\n",
       "  const y = \"geeksforpeeks\"\n",
       "  if(x === y) {\n",
       "    resolving();\n",
       "  } else {\n",
       "    rejecting();\n",
       "  }\n",
       "})\n",
       "\n",
       "promise.\n",
       "    then(function () {\n",
       "        console.log('Success, You are a GEEK');\n",
       "    }).\n",
       "    catch(function () {\n",
       "        console.log('Some error has occurred');\n",
       "    });\n",
       "\n"
      ],
      "text/plain": [
       "<IPython.core.display.Javascript object>"
      ]
     },
     "metadata": {},
     "output_type": "display_data"
    }
   ],
   "source": [
    "%%javascript\n",
    "var promise = new Promise(function(resolving, rejecting){\n",
    "  //do something asynchronous here\n",
    "  const x = \"geeksforgeeks\";\n",
    "  const y = \"geeksforpeeks\"\n",
    "  if(x === y) {\n",
    "    resolving();\n",
    "  } else {\n",
    "    rejecting();\n",
    "  }\n",
    "})\n",
    "\n",
    "promise.\n",
    "    then(function () {\n",
    "        console.log('Success, You are a GEEK');\n",
    "    }).\n",
    "    catch(function () {\n",
    "        console.log('Some error has occurred');\n",
    "    });\n",
    "\n"
   ]
  }
 ],
 "metadata": {
  "kernelspec": {
   "display_name": "Python 3 (ipykernel)",
   "language": "python",
   "name": "python3"
  },
  "language_info": {
   "codemirror_mode": {
    "name": "ipython",
    "version": 3
   },
   "file_extension": ".py",
   "mimetype": "text/x-python",
   "name": "python",
   "nbconvert_exporter": "python",
   "pygments_lexer": "ipython3",
   "version": "3.10.4"
  }
 },
 "nbformat": 4,
 "nbformat_minor": 5
}
