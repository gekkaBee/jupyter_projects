{
 "cells": [
  {
   "cell_type": "code",
   "execution_count": null,
   "id": "57018ce1",
   "metadata": {},
   "outputs": [],
   "source": [
    "\n",
    "# Sample Headline\n",
    "\n",
    "## Another Headline"
   ]
  },
  {
   "cell_type": "code",
   "execution_count": null,
   "id": "9874019f",
   "metadata": {},
   "outputs": [],
   "source": [
    "print(\"Hello World\")"
   ]
  },
  {
   "cell_type": "code",
   "execution_count": null,
   "id": "7aa52a08",
   "metadata": {},
   "outputs": [],
   "source": [
    "# Creation of a simple Class\n",
    "\n",
    "class Student:\n",
    "    \n",
    "    def __init__(self):\n",
    "        print(\"The student class has been initialized\")\n",
    "        \n",
    "\n",
    "student = Student()\n"
   ]
  },
  {
   "cell_type": "code",
   "execution_count": null,
   "id": "261ea615",
   "metadata": {},
   "outputs": [],
   "source": [
    "# Example of a bash command\n",
    "# An exclamation is the start of the bash command\n",
    "\n",
    "!pip list"
   ]
  },
  {
   "cell_type": "code",
   "execution_count": null,
   "id": "979fd441",
   "metadata": {},
   "outputs": [],
   "source": [
    " # Magic Commands %\n",
    "\n",
    "    \n",
    "%lsmagic"
   ]
  },
  {
   "cell_type": "code",
   "execution_count": null,
   "id": "fab26483",
   "metadata": {},
   "outputs": [],
   "source": [
    "# Inline Matplotlib\n",
    "\n",
    "%matplotlib inline"
   ]
  },
  {
   "cell_type": "code",
   "execution_count": null,
   "id": "0aa55da8",
   "metadata": {},
   "outputs": [],
   "source": [
    "# Simple demo of a scatter plot\n",
    "\n",
    "import numpy as np\n",
    "import matplotlib.pyplot as plt\n",
    "\n",
    "N = 50\n",
    "x = np.random.rand(N)\n",
    "y = np.random.rand(N)\n",
    "colors = np.random.rand(N)\n",
    "area = np.pi * (15 * np.random.rand(N))**2 # 0 to 15 point radiuses\n",
    "\n",
    "plt.scatter(x, y, s=area, c=colors, alpha=0.5)\n",
    "plt.show()\n",
    "\n"
   ]
  },
  {
   "cell_type": "code",
   "execution_count": null,
   "id": "e1000535",
   "metadata": {},
   "outputs": [],
   "source": [
    "%%javascript\n",
    "console.log(\"Javscript\") "
   ]
  },
  {
   "cell_type": "code",
   "execution_count": 4,
   "id": "1a3a66b2",
   "metadata": {},
   "outputs": [
    {
     "data": {
      "text/html": [
       "<div>\n",
       "<style scoped>\n",
       "    .dataframe tbody tr th:only-of-type {\n",
       "        vertical-align: middle;\n",
       "    }\n",
       "\n",
       "    .dataframe tbody tr th {\n",
       "        vertical-align: top;\n",
       "    }\n",
       "\n",
       "    .dataframe thead th {\n",
       "        text-align: right;\n",
       "    }\n",
       "</style>\n",
       "<table border=\"1\" class=\"dataframe\">\n",
       "  <thead>\n",
       "    <tr style=\"text-align: right;\">\n",
       "      <th></th>\n",
       "      <th>0</th>\n",
       "      <th>1</th>\n",
       "      <th>2</th>\n",
       "      <th>3</th>\n",
       "      <th>4</th>\n",
       "    </tr>\n",
       "  </thead>\n",
       "  <tbody>\n",
       "    <tr>\n",
       "      <th>0</th>\n",
       "      <td>-1.546454</td>\n",
       "      <td>-0.341280</td>\n",
       "      <td>1.330252</td>\n",
       "      <td>-0.107324</td>\n",
       "      <td>-1.328234</td>\n",
       "    </tr>\n",
       "    <tr>\n",
       "      <th>1</th>\n",
       "      <td>-1.531847</td>\n",
       "      <td>-0.176827</td>\n",
       "      <td>-1.785578</td>\n",
       "      <td>0.072338</td>\n",
       "      <td>0.284005</td>\n",
       "    </tr>\n",
       "    <tr>\n",
       "      <th>2</th>\n",
       "      <td>-0.598550</td>\n",
       "      <td>-0.317137</td>\n",
       "      <td>-0.741514</td>\n",
       "      <td>0.754325</td>\n",
       "      <td>3.645699</td>\n",
       "    </tr>\n",
       "    <tr>\n",
       "      <th>3</th>\n",
       "      <td>0.686150</td>\n",
       "      <td>0.399360</td>\n",
       "      <td>-0.136929</td>\n",
       "      <td>-0.080841</td>\n",
       "      <td>-0.152825</td>\n",
       "    </tr>\n",
       "    <tr>\n",
       "      <th>4</th>\n",
       "      <td>0.944552</td>\n",
       "      <td>0.973947</td>\n",
       "      <td>0.517088</td>\n",
       "      <td>-1.164466</td>\n",
       "      <td>-0.725321</td>\n",
       "    </tr>\n",
       "    <tr>\n",
       "      <th>5</th>\n",
       "      <td>-0.430105</td>\n",
       "      <td>-0.282307</td>\n",
       "      <td>-0.997419</td>\n",
       "      <td>0.791923</td>\n",
       "      <td>1.514278</td>\n",
       "    </tr>\n",
       "    <tr>\n",
       "      <th>6</th>\n",
       "      <td>-0.131813</td>\n",
       "      <td>0.070573</td>\n",
       "      <td>0.909352</td>\n",
       "      <td>0.174486</td>\n",
       "      <td>-0.695858</td>\n",
       "    </tr>\n",
       "    <tr>\n",
       "      <th>7</th>\n",
       "      <td>0.918082</td>\n",
       "      <td>-0.108161</td>\n",
       "      <td>0.666157</td>\n",
       "      <td>-0.522552</td>\n",
       "      <td>0.861446</td>\n",
       "    </tr>\n",
       "    <tr>\n",
       "      <th>8</th>\n",
       "      <td>1.067968</td>\n",
       "      <td>-1.613542</td>\n",
       "      <td>0.212566</td>\n",
       "      <td>-0.457692</td>\n",
       "      <td>0.207316</td>\n",
       "    </tr>\n",
       "    <tr>\n",
       "      <th>9</th>\n",
       "      <td>-0.963351</td>\n",
       "      <td>0.224829</td>\n",
       "      <td>-0.816898</td>\n",
       "      <td>1.232022</td>\n",
       "      <td>-1.802615</td>\n",
       "    </tr>\n",
       "  </tbody>\n",
       "</table>\n",
       "</div>"
      ],
      "text/plain": [
       "          0         1         2         3         4\n",
       "0 -1.546454 -0.341280  1.330252 -0.107324 -1.328234\n",
       "1 -1.531847 -0.176827 -1.785578  0.072338  0.284005\n",
       "2 -0.598550 -0.317137 -0.741514  0.754325  3.645699\n",
       "3  0.686150  0.399360 -0.136929 -0.080841 -0.152825\n",
       "4  0.944552  0.973947  0.517088 -1.164466 -0.725321\n",
       "5 -0.430105 -0.282307 -0.997419  0.791923  1.514278\n",
       "6 -0.131813  0.070573  0.909352  0.174486 -0.695858\n",
       "7  0.918082 -0.108161  0.666157 -0.522552  0.861446\n",
       "8  1.067968 -1.613542  0.212566 -0.457692  0.207316\n",
       "9 -0.963351  0.224829 -0.816898  1.232022 -1.802615"
      ]
     },
     "execution_count": 4,
     "metadata": {},
     "output_type": "execute_result"
    }
   ],
   "source": [
    "import pandas as pd\n",
    "import numpy as np\n",
    "\n",
    "df = pd.DataFrame(np.random.randn(10,5))\n",
    "df"
   ]
  }
 ],
 "metadata": {
  "kernelspec": {
   "display_name": "Python 3 (ipykernel)",
   "language": "python",
   "name": "python3"
  },
  "language_info": {
   "codemirror_mode": {
    "name": "ipython",
    "version": 3
   },
   "file_extension": ".py",
   "mimetype": "text/x-python",
   "name": "python",
   "nbconvert_exporter": "python",
   "pygments_lexer": "ipython3",
   "version": "3.10.4"
  }
 },
 "nbformat": 4,
 "nbformat_minor": 5
}
