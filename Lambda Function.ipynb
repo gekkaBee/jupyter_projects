{
 "cells": [
  {
   "cell_type": "code",
   "execution_count": 3,
   "id": "c773a4c9",
   "metadata": {},
   "outputs": [
    {
     "data": {
      "text/plain": [
       "2"
      ]
     },
     "execution_count": 3,
     "metadata": {},
     "output_type": "execute_result"
    }
   ],
   "source": [
    "# Lambda function\n",
    "# The main difference is that lambda function always returns a value\n",
    "\n",
    "a = lambda x,y: x if x > y else y\n",
    "\n",
    "a(1,2)\n"
   ]
  },
  {
   "cell_type": "code",
   "execution_count": 16,
   "id": "c24d94d5",
   "metadata": {},
   "outputs": [
    {
     "name": "stdout",
     "output_type": "stream",
     "text": [
      "10\n"
     ]
    }
   ],
   "source": [
    "function_list = [lambda x=x: x * 10 for x in range(10)]\n",
    "print(function_list[1]())"
   ]
  },
  {
   "cell_type": "code",
   "execution_count": 27,
   "id": "b59a6b5a",
   "metadata": {},
   "outputs": [
    {
     "name": "stdout",
     "output_type": "stream",
     "text": [
      "[[2, 3, 4], [1, 6, 16, 18], [3, 6, 9, 12]]\n"
     ]
    },
    {
     "data": {
      "text/plain": [
       "[3, 16, 9]"
      ]
     },
     "execution_count": 27,
     "metadata": {},
     "output_type": "execute_result"
    }
   ],
   "source": [
    "# Find the second largest number in each of the following list\n",
    "\n",
    "List = [[2,3,4],[1, 18, 16, 6],[3, 6, 9, 12]]\n",
    "\n",
    "sortList = lambda x: (sorted(i) for i in x)\n",
    "# The sortList function sorts the inner list\n",
    "\n",
    "print(list(sortList(List)))\n",
    " \n",
    "second_smallest = lambda x, f: [y[len(y) - 2] for y in f(x)]\n",
    "\n",
    "second_smallest(List, sortList)"
   ]
  },
  {
   "cell_type": "code",
   "execution_count": null,
   "id": "2e22f0f9",
   "metadata": {},
   "outputs": [],
   "source": []
  }
 ],
 "metadata": {
  "kernelspec": {
   "display_name": "Python 3 (ipykernel)",
   "language": "python",
   "name": "python3"
  },
  "language_info": {
   "codemirror_mode": {
    "name": "ipython",
    "version": 3
   },
   "file_extension": ".py",
   "mimetype": "text/x-python",
   "name": "python",
   "nbconvert_exporter": "python",
   "pygments_lexer": "ipython3",
   "version": "3.10.4"
  }
 },
 "nbformat": 4,
 "nbformat_minor": 5
}
