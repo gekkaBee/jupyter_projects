{
 "cells": [
  {
   "cell_type": "code",
   "execution_count": 25,
   "id": "45ec3bbc",
   "metadata": {},
   "outputs": [
    {
     "name": "stdout",
     "output_type": "stream",
     "text": [
      "Arguments passed in the wrapper function ()\n",
      "KW Arguments passed in the wrapper function {}\n",
      "This code snippet was ran before the function was executed display\n",
      "The display function ran\n",
      "Arguments passed in the wrapper function ('Abi', '28')\n",
      "KW Arguments passed in the wrapper function {'occupation': 'Software Developer'}\n",
      "This code snippet was ran before the function was executed display_name\n",
      "Inside ('Abi', '28')\n",
      "Inside {'occupation': 'Software Developer'}\n"
     ]
    }
   ],
   "source": [
    "# Simple Implementation of a Decorator\n",
    "# Here the origin function is passed in the decorator function and wrapper function is returned\n",
    "\n",
    "def decorator_function(original_function):\n",
    "    def wrapper_function(*args, **kwargs):\n",
    "        print(\"Arguments passed in the wrapper function\", args)\n",
    "        print(\"KW Arguments passed in the wrapper function\", kwargs)\n",
    "        print(f\"This code snippet was ran before the function was executed {original_function.__name__}\")\n",
    "        return original_function(*args, **kwargs)\n",
    "\n",
    "    return wrapper_function\n",
    "\n",
    "@decorator_function\n",
    "def display(*args, **kwargs):\n",
    "    print(\"The display function ran\")\n",
    "\n",
    "@decorator_function\n",
    "def display_name(*args, **kwargs):\n",
    "#     print(f\"Your name is {name} and age is {age}\")\n",
    "    print(\"Inside\",args)\n",
    "    print(\"Inside\",kwargs)\n",
    "\n",
    "display()\n",
    "display_name(\"Abi\",\"28\", occupation=\"Software Developer\")"
   ]
  },
  {
   "cell_type": "code",
   "execution_count": 34,
   "id": "5fe9caab",
   "metadata": {},
   "outputs": [
    {
     "name": "stdout",
     "output_type": "stream",
     "text": [
      "()\n",
      "{'auth': 'Public'}\n",
      "This has been called before the actual function\n",
      "The display method has been called\n"
     ]
    }
   ],
   "source": [
    "# Implementation of decorators with arguments\n",
    "\n",
    "def decorator_function(*args, **kwargs):\n",
    "    \n",
    "    print(args)\n",
    "    print(kwargs)\n",
    "    \n",
    "    def outer_function(original_function):\n",
    "        def wrapper_function(*args, **kwargs):\n",
    "            print(\"This has been called before the actual function\")\n",
    "            return original_function(*args,**kwargs)\n",
    "        \n",
    "        return wrapper_function\n",
    "    \n",
    "    return outer_function\n",
    "    \n",
    "\n",
    "@decorator_function(auth=\"Public\")\n",
    "def display():\n",
    "    print(\"The display method has been called\")\n",
    "    \n",
    "display()"
   ]
  },
  {
   "cell_type": "code",
   "execution_count": 40,
   "id": "aaff8ce2",
   "metadata": {},
   "outputs": [
    {
     "name": "stdout",
     "output_type": "stream",
     "text": [
      "The route authorization is pubic\n",
      "The authorization is public\n",
      "This is a public controller\n",
      "The authorization is none\n",
      "This is a none controller\n"
     ]
    }
   ],
   "source": [
    "# Real Life Implementation of Decorators with arguments\n",
    "\n",
    "def Route(*args, **kwargs):\n",
    "    auth = 'none'\n",
    "    if (kwargs.get(\"auth\") == 'public'):\n",
    "        auth = kwargs.get(\"auth\")\n",
    "        print(\"The route authorization is pubic\")\n",
    "\n",
    "    def decorator(original_function):\n",
    "        def wrapper_function(*args,**kwargs):\n",
    "            if auth == 'public':\n",
    "                print(\"The authorization is public\")\n",
    "            elif auth == 'none':\n",
    "                print(\"The authorization is none\")\n",
    "            original_function(*args, **kwargs)\n",
    "        return wrapper_function\n",
    "    return decorator\n",
    "    \n",
    "    \n",
    "@Route(auth='public')\n",
    "def public_controller():\n",
    "    print(\"This is a public controller\")\n",
    "    \n",
    "\n",
    "@Route(auth='none')\n",
    "def none_controller():\n",
    "    print(\"This is a none controller\")\n",
    "    \n",
    "public_controller()\n",
    "none_controller()"
   ]
  }
 ],
 "metadata": {
  "kernelspec": {
   "display_name": "Python 3 (ipykernel)",
   "language": "python",
   "name": "python3"
  },
  "language_info": {
   "codemirror_mode": {
    "name": "ipython",
    "version": 3
   },
   "file_extension": ".py",
   "mimetype": "text/x-python",
   "name": "python",
   "nbconvert_exporter": "python",
   "pygments_lexer": "ipython3",
   "version": "3.10.4"
  }
 },
 "nbformat": 4,
 "nbformat_minor": 5
}
